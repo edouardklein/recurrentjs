{
 "metadata": {
  "name": "",
  "signature": "sha256:e0621cd4ba081eaf76d5f03f3e818c7d60fb6b0351186faf6be110386b7e900d"
 },
 "nbformat": 3,
 "nbformat_minor": 0,
 "worksheets": [
  {
   "cells": [
    {
     "cell_type": "code",
     "collapsed": false,
     "input": [
      "with open('the-singularity-is-near_clean.txt') as f:\n",
      "    text = f.read()\n",
      "#text\n",
      "text = text.encode('ascii','ignore').decode()"
     ],
     "language": "python",
     "metadata": {},
     "outputs": [],
     "prompt_number": 1
    },
    {
     "cell_type": "code",
     "collapsed": false,
     "input": [
      "#Removing consecutive end of lines\n",
      "import re\n",
      "def remove_consecutive_CR(text):\n",
      "    return re.sub('\\n+','\\n', text)\n",
      "#text = remove_consecutive_CR(text)\n",
      "#text[:1000]"
     ],
     "language": "python",
     "metadata": {},
     "outputs": [],
     "prompt_number": 2
    },
    {
     "cell_type": "code",
     "collapsed": false,
     "input": [
      "#Making the text a fortune file\n",
      "text2 = remove_consecutive_CR(re.sub('([^\\.]*\\.)',r'\\1\\n%\\n', text))\n",
      "text2[:1000]\n",
      "with open('Kurzweil_1s.txt', 'wb') as f:\n",
      "    f.write(text2.encode('ascii'))"
     ],
     "language": "python",
     "metadata": {},
     "outputs": [],
     "prompt_number": 3
    },
    {
     "cell_type": "code",
     "collapsed": false,
     "input": [
      "# Dividing the text in paragraphs\n",
      "text2 = remove_consecutive_CR(re.sub('((.*)(\\n{2,}))',r'\\1\\n%\\n', text))\n",
      "with open('Kurzweil_1p.txt', 'wb') as f:\n",
      "    f.write(text2.encode('ascii'))"
     ],
     "language": "python",
     "metadata": {},
     "outputs": [],
     "prompt_number": 28
    },
    {
     "cell_type": "code",
     "collapsed": false,
     "input": [
      "# Dividing the text in chunks of 5 paragraphs\n",
      "def remove_2consecutive_CR(text):\n",
      "    return re.sub('\\n{2,}','\\n\\n', text)\n",
      "text3 = remove_2consecutive_CR(re.sub('(((.*)(\\n{2,})){5})',r'\\1\\n%\\n', text))\n",
      "with open('Kurzweil_5p.txt', 'wb') as f:\n",
      "    f.write(text3.encode('ascii'))"
     ],
     "language": "python",
     "metadata": {},
     "outputs": [],
     "prompt_number": 34
    },
    {
     "cell_type": "code",
     "collapsed": false,
     "input": [
      "print(text3[:5000])"
     ],
     "language": "python",
     "metadata": {},
     "outputs": [
      {
       "output_type": "stream",
       "stream": "stdout",
       "text": [
        "The Singularity Is Near\n",
        "\n",
        "PROLOGUE\n",
        "\n",
        "The Power of Ideas\n",
        "\n",
        "I do not think there is any thrill that can go through the human heart like that felt by the inventor as he sees some creation of the brain unfolding to success.\n",
        "\n",
        "Nikola Tesla, 1896, Inventor of Alternating Current\n",
        "\n",
        "%\n",
        "At the age of five, I had the idea that I would become an inventor. I had the notion that inventions could change the world. When other kids were wondering aloud what they wanted to be, I already had the conceit that I knew what I was going to be. The rocket ship to the moon that I was then building (almost a decade before President Kennedy's challenge to the nation) did not work out. But at around the time I turned eight, my inventions became a little more realistic, such as a robotic theater with mechanical linkages that could move scenery and characters in and out of view, and virtual baseball games.\n",
        "\n",
        "Having fled the Holocaust, my parents, both artists, wanted a more worldly, less provincial, religious upbringing for me. My spiritual education, as a result, took place in a Unitarian church. We would spend six months studying one religiongoing to its services, reading its books, having dialogues with its leadersand then move on to the next. The theme was \"many paths to the truth.\" I noticed, of course, many parallels among the world's religious traditions, but even the inconsistencies were illuminating. It became clear to me that the basic truths were profound enough to transcend apparent contradictions.\n",
        "\n",
        "At the age of eight, I discovered the Tom Swift Jr. series of books. The plots of all of the thirty-three books (only nine of which had been published when I started to read them in 1956) were always the same: Tom would get himself into a terrible predicament, in which his fate and that of his friends, and often the rest of the human race, hung in the balance. Tom would retreat to his basement lab and think about how to solve the problem. This, then, was the dramatic tension in each book in the series: what ingenious idea would Tom and his friends come up with to save the day? The moral of these tales was simple: the right idea had the power to overcome a seemingly overwhelming challenge.\n",
        "\n",
        "To this day, I remain convinced of this basic philosophy: no matter what quandaries we facebusiness problems, health issues, relationship difficulties, as well as the great scientific, social, and cultural challenges of our timethere is an idea that can enable us to prevail. Furthermore, we can find that idea. And when we find it, we need to implement it. My life has been shaped by this imperative. The power of an ideathis is itself an idea.\n",
        "\n",
        "Around the same time that I was reading the Tom Swift Jr. series, I recall my grandfather, who had also fled Europe with my mother, coming back from his first return visit to Europe with two key memories. One was the gracious treatment he received from the Austrians and Germans, the same people who had forced him to flee in 1938. The other was a rare opportunity he had been given to touch with his own hands some original manuscripts of Leonardo da Vinci. Both recollections influenced me, but the latter is one I've returned to many times. He described the experience with reverence, as if he had touched the work of God himself. This, then, was the religion that I was raised with: veneration for human creativity and the power of ideas.\n",
        "\n",
        "%\n",
        "In 1960, at the age of twelve, I discovered the computer and became fascinated with its ability to model and re-create the world. I hung around the surplus electronics stores on Canal Street in Manhattan (they're still there!) and gathered parts to build my own computational devices. During the 1960s, I was as absorbed in the contemporary musical, cultural, and political movements as my peers, but I became equally engaged in a much more obscure trend: namely, the remarkable sequence of machines that IBM proffered during that decade, from their big \"7000\" series (7070, 7074, 7090, 7094) to their small 1620, effectively the first \"minicomputer.\" The machines were introduced at yearly intervals, and each one was less expensive and more powerful than the last, a phenomenon familiar today. I got access to an IBM 1620 and began to write programs for statistical analysis and subsequently for music composition.\n",
        "\n",
        "I still recall the time in 1968 when I was allowed into the secure, cavernous chamber housing what was then the most powerful computer in New England, a top-of-the-line IBM 360 Model 91, with a remarkable million bytes (one megabyte) of \"core\" memory, an impressive speed of one million instructions per second (one MIPS), and a rental cost of only one thousand dollars per hour. I had developed a computer program that matched high-school students to colleges, and I watched in fascination as the front-panel lights danced through a distinctive pattern as the machine processed each student's application.3 Even though I was quite familiar with every line of code, it nonetheless seemed as\n"
       ]
      }
     ],
     "prompt_number": 33
    },
    {
     "cell_type": "code",
     "collapsed": false,
     "input": [
      "text2 = remove_conscutive_CR(re.sub('(([^\\.]*\\.){2})',r'\\1\\n%\\n', text))\n",
      "text2[:1000]\n",
      "with open('Kurzweil_2s.txt', 'w') as f:\n",
      "    f.write(text2)"
     ],
     "language": "python",
     "metadata": {},
     "outputs": [],
     "prompt_number": 20
    },
    {
     "cell_type": "code",
     "collapsed": false,
     "input": [
      "''.join(set(text2))"
     ],
     "language": "python",
     "metadata": {},
     "outputs": [
      {
       "metadata": {},
       "output_type": "pyout",
       "prompt_number": 48,
       "text": [
        "',w}hV84zmBG 2u&.(-5aKjY6ZtiloRTX{EW]QdH)nCAkMgbxJ0F[=:/1?Pq3L$sp%\\'S\"O!D;9e\\nr+vIU7yNfc'"
       ]
      }
     ],
     "prompt_number": 48
    },
    {
     "cell_type": "code",
     "collapsed": false,
     "input": [
      "text2.encode('ascii','ignore')[:1000].decode()"
     ],
     "language": "python",
     "metadata": {},
     "outputs": [
      {
       "metadata": {},
       "output_type": "pyout",
       "prompt_number": 39,
       "text": [
        "\"The Singularity Is Near\\nPROLOGUE\\nThe Power of Ideas\\nI do not think there is any thrill that can go through the human heart like that felt by the inventor as he sees some creation of the brain unfolding to success.\\n%\\nNikola Tesla, 1896, Inventor of Alternating Current\\nAt the age of five, I had the idea that I would become an inventor.\\n%\\n I had the notion that inventions could change the world.\\n%\\n When other kids were wondering aloud what they wanted to be, I already had the conceit that I knew what I was going to be.\\n%\\n The rocket ship to the moon that I was then building (almost a decade before President Kennedy's challenge to the nation) did not work out.\\n%\\n But at around the time I turned eight, my inventions became a little more realistic, such as a robotic theater with mechanical linkages that could move scenery and characters in and out of view, and virtual baseball games.\\n%\\nHaving fled the Holocaust, my parents, both artists, wanted a more worldly, less provincial, religious upbr\""
       ]
      }
     ],
     "prompt_number": 39
    }
   ],
   "metadata": {}
  }
 ]
}