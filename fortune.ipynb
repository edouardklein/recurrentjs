{
 "metadata": {
  "name": "",
  "signature": "sha256:d97f7b342a6484dd16c3513b2804bbd30a141aff7064fcf63481ca57f8abe862"
 },
 "nbformat": 3,
 "nbformat_minor": 0,
 "worksheets": [
  {
   "cells": [
    {
     "cell_type": "code",
     "collapsed": false,
     "input": [
      "with open('the-singularity-is-near_clean.txt') as f:\n",
      "    text = f.read()\n",
      "text[:1000]"
     ],
     "language": "python",
     "metadata": {},
     "outputs": [
      {
       "metadata": {},
       "output_type": "pyout",
       "prompt_number": 4,
       "text": [
        "\"The Singularity Is Near\\n\\n\\n\\n\\n\\nPROLOGUE\\n\\n\\n\\n\\n\\nThe Power of Ideas\\n\\n\\n\\n\\n\\nI do not think there is any thrill that can go through the human heart like that felt by the inventor as he sees some creation of the brain unfolding to success.\\n\\n\\n\\n\u2014Nikola Tesla, 1896, Inventor of Alternating Current\\n\\nAt the age of five, I had the idea that I would become an inventor. I had the notion that inventions could change the world. When other kids were wondering aloud what they wanted to be, I already had the conceit that I knew what I was going to be. The rocket ship to the moon that I was then building (almost a decade before President Kennedy's challenge to the nation) did not work out. But at around the time I turned eight, my inventions became a little more realistic, such as a robotic theater with mechanical linkages that could move scenery and characters in and out of view, and virtual baseball games.\\n\\nHaving fled the Holocaust, my parents, both artists, wanted a more worldly, less provincial, religious\""
       ]
      }
     ],
     "prompt_number": 4
    },
    {
     "cell_type": "code",
     "collapsed": false,
     "input": [
      "#Removing consecutive end of lines\n",
      "import re\n",
      "def remove_conscutive_CR(text):\n",
      "    return re.sub('\\n+','\\n', text)\n",
      "text = remove_conscutive_CR(text)\n",
      "text[:1000]"
     ],
     "language": "python",
     "metadata": {},
     "outputs": [
      {
       "metadata": {},
       "output_type": "pyout",
       "prompt_number": 12,
       "text": [
        "\"The Singularity Is Near\\nPROLOGUE\\nThe Power of Ideas\\nI do not think there is any thrill that can go through the human heart like that felt by the inventor as he sees some creation of the brain unfolding to success.\\n\u2014Nikola Tesla, 1896, Inventor of Alternating Current\\nAt the age of five, I had the idea that I would become an inventor. I had the notion that inventions could change the world. When other kids were wondering aloud what they wanted to be, I already had the conceit that I knew what I was going to be. The rocket ship to the moon that I was then building (almost a decade before President Kennedy's challenge to the nation) did not work out. But at around the time I turned eight, my inventions became a little more realistic, such as a robotic theater with mechanical linkages that could move scenery and characters in and out of view, and virtual baseball games.\\nHaving fled the Holocaust, my parents, both artists, wanted a more worldly, less provincial, religious upbringing for me. \""
       ]
      }
     ],
     "prompt_number": 12
    },
    {
     "cell_type": "code",
     "collapsed": false,
     "input": [
      "#Making the text a fortune file\n",
      "text2 = remove_conscutive_CR(re.sub('([^\\.]*\\.)',r'\\1\\n%\\n', text))\n",
      "text2[:1000]\n",
      "with open('Kurzweil_1s.txt', 'w') as f:\n",
      "    f.write(text2)"
     ],
     "language": "python",
     "metadata": {},
     "outputs": [],
     "prompt_number": 15
    },
    {
     "cell_type": "code",
     "collapsed": false,
     "input": [
      "text2 = remove_conscutive_CR(re.sub('(([^\\.]*\\.){2})',r'\\1\\n%\\n', text))\n",
      "text2[:1000]\n",
      "with open('Kurzweil_2s.txt', 'w') as f:\n",
      "    f.write(text2)"
     ],
     "language": "python",
     "metadata": {},
     "outputs": [],
     "prompt_number": 20
    },
    {
     "cell_type": "code",
     "collapsed": false,
     "input": [
      "''.join(set(text))"
     ],
     "language": "python",
     "metadata": {},
     "outputs": [
      {
       "metadata": {},
       "output_type": "pyout",
       "prompt_number": 31,
       "text": [
        "'c\u2022z\u00bda\u25batdHJb[Ls%SD\u00e9r7}V84G&.(\u201cjZlX\u2014{EW])kg=\u201d\u00f6:/3\\'\"\u00ceO!v\u20195\u2013KioRQnMF;9\\n+UwhmB\u00e2 2u\u2026-Y6TCA0x1?Pq$peIyNf,'"
       ]
      }
     ],
     "prompt_number": 31
    }
   ],
   "metadata": {}
  }
 ]
}