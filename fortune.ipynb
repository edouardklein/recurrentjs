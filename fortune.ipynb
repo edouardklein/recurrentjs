{
 "metadata": {
  "name": "",
  "signature": "sha256:26aa8ea728e89e9a592472855564a1a3f8c6584adb32f8f23cb3437489dc9273"
 },
 "nbformat": 3,
 "nbformat_minor": 0,
 "worksheets": [
  {
   "cells": [
    {
     "cell_type": "code",
     "collapsed": false,
     "input": [
      "with open('the-singularity-is-near_clean.txt') as f:\n",
      "    text = f.read()\n",
      "#text\n",
      "text = text.encode('ascii','ignore').decode()"
     ],
     "language": "python",
     "metadata": {},
     "outputs": [],
     "prompt_number": 45
    },
    {
     "cell_type": "code",
     "collapsed": false,
     "input": [
      "#Removing consecutive end of lines\n",
      "import re\n",
      "def remove_consecutive_CR(text):\n",
      "    return re.sub('\\n+','\\n', text)\n",
      "text = remove_consecutive_CR(text)\n",
      "text[:1000]"
     ],
     "language": "python",
     "metadata": {},
     "outputs": [
      {
       "metadata": {},
       "output_type": "pyout",
       "prompt_number": 46,
       "text": [
        "\"The Singularity Is Near\\nPROLOGUE\\nThe Power of Ideas\\nI do not think there is any thrill that can go through the human heart like that felt by the inventor as he sees some creation of the brain unfolding to success.\\nNikola Tesla, 1896, Inventor of Alternating Current\\nAt the age of five, I had the idea that I would become an inventor. I had the notion that inventions could change the world. When other kids were wondering aloud what they wanted to be, I already had the conceit that I knew what I was going to be. The rocket ship to the moon that I was then building (almost a decade before President Kennedy's challenge to the nation) did not work out. But at around the time I turned eight, my inventions became a little more realistic, such as a robotic theater with mechanical linkages that could move scenery and characters in and out of view, and virtual baseball games.\\nHaving fled the Holocaust, my parents, both artists, wanted a more worldly, less provincial, religious upbringing for me. M\""
       ]
      }
     ],
     "prompt_number": 46
    },
    {
     "cell_type": "code",
     "collapsed": false,
     "input": [
      "#Making the text a fortune file\n",
      "text2 = remove_consecutive_CR(re.sub('([^\\.]*\\.)',r'\\1\\n%\\n', text))\n",
      "text2[:1000]\n",
      "with open('Kurzweil_1s.txt', 'wb') as f:\n",
      "    f.write(text2.encode('ascii'))"
     ],
     "language": "python",
     "metadata": {},
     "outputs": [],
     "prompt_number": 47
    },
    {
     "cell_type": "code",
     "collapsed": false,
     "input": [
      "text2.encode('ascii','ignore')[:1000]"
     ],
     "language": "python",
     "metadata": {},
     "outputs": []
    },
    {
     "cell_type": "code",
     "collapsed": false,
     "input": [
      "text2 = remove_conscutive_CR(re.sub('(([^\\.]*\\.){2})',r'\\1\\n%\\n', text))\n",
      "text2[:1000]\n",
      "with open('Kurzweil_2s.txt', 'w') as f:\n",
      "    f.write(text2)"
     ],
     "language": "python",
     "metadata": {},
     "outputs": [],
     "prompt_number": 20
    },
    {
     "cell_type": "code",
     "collapsed": false,
     "input": [
      "''.join(set(text2))"
     ],
     "language": "python",
     "metadata": {},
     "outputs": [
      {
       "metadata": {},
       "output_type": "pyout",
       "prompt_number": 48,
       "text": [
        "',w}hV84zmBG 2u&.(-5aKjY6ZtiloRTX{EW]QdH)nCAkMgbxJ0F[=:/1?Pq3L$sp%\\'S\"O!D;9e\\nr+vIU7yNfc'"
       ]
      }
     ],
     "prompt_number": 48
    },
    {
     "cell_type": "code",
     "collapsed": false,
     "input": [
      "text2.encode('ascii','ignore')[:1000].decode()"
     ],
     "language": "python",
     "metadata": {},
     "outputs": [
      {
       "metadata": {},
       "output_type": "pyout",
       "prompt_number": 39,
       "text": [
        "\"The Singularity Is Near\\nPROLOGUE\\nThe Power of Ideas\\nI do not think there is any thrill that can go through the human heart like that felt by the inventor as he sees some creation of the brain unfolding to success.\\n%\\nNikola Tesla, 1896, Inventor of Alternating Current\\nAt the age of five, I had the idea that I would become an inventor.\\n%\\n I had the notion that inventions could change the world.\\n%\\n When other kids were wondering aloud what they wanted to be, I already had the conceit that I knew what I was going to be.\\n%\\n The rocket ship to the moon that I was then building (almost a decade before President Kennedy's challenge to the nation) did not work out.\\n%\\n But at around the time I turned eight, my inventions became a little more realistic, such as a robotic theater with mechanical linkages that could move scenery and characters in and out of view, and virtual baseball games.\\n%\\nHaving fled the Holocaust, my parents, both artists, wanted a more worldly, less provincial, religious upbr\""
       ]
      }
     ],
     "prompt_number": 39
    }
   ],
   "metadata": {}
  }
 ]
}